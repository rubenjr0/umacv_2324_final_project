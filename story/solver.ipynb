{
 "cells": [
  {
   "cell_type": "code",
   "execution_count": 54,
   "metadata": {},
   "outputs": [],
   "source": [
    "import numpy as np\n",
    "from enum import Enum"
   ]
  },
  {
   "cell_type": "code",
   "execution_count": 55,
   "metadata": {},
   "outputs": [],
   "source": [
    "class State(Enum):\n",
    "    RAND = 1\n",
    "    CROSS = 2\n",
    "    CORNERS = 3"
   ]
  },
  {
   "cell_type": "code",
   "execution_count": 81,
   "metadata": {},
   "outputs": [],
   "source": [
    "class Action(Enum):\n",
    "    U = 1\n",
    "    R = 2\n",
    "    B = 3\n",
    "    L = 4"
   ]
  },
  {
   "cell_type": "code",
   "execution_count": 111,
   "metadata": {},
   "outputs": [],
   "source": [
    "def missing_cross(face: np.ndarray) -> list[(int, int)]:\n",
    "    target = face[1, 1]\n",
    "    positions = [(0, 1), (1, 0), (1, 2), (2, 1)]\n",
    "    return [position for position in positions if face[position] != target]"
   ]
  },
  {
   "cell_type": "code",
   "execution_count": 112,
   "metadata": {},
   "outputs": [],
   "source": [
    "def missing_corners(face: np.ndarray) -> list[(int, int)]:\n",
    "    target = face[1, 1]\n",
    "    positions = [(0, 0), (0, 2), (2, 0), (2, 2)]\n",
    "    return [position for position in positions if face[position] != target]"
   ]
  },
  {
   "cell_type": "code",
   "execution_count": 113,
   "metadata": {},
   "outputs": [],
   "source": [
    "def is_cross(face: np.ndarray) -> bool:\n",
    "    return len(missing_cross(face)) == 0"
   ]
  },
  {
   "cell_type": "code",
   "execution_count": 114,
   "metadata": {},
   "outputs": [],
   "source": [
    "def is_corners(face: np.ndarray) -> bool:\n",
    "    return len(missing_corners(face)) == 0"
   ]
  },
  {
   "cell_type": "code",
   "execution_count": 116,
   "metadata": {},
   "outputs": [],
   "source": [
    "def get_state(face: np.ndarray) -> State:\n",
    "    if is_cross(face):\n",
    "        return State.CROSS\n",
    "    elif is_corners(face):\n",
    "        return State.CORNERS\n",
    "    else:\n",
    "        return State.RAND"
   ]
  },
  {
   "cell_type": "code",
   "execution_count": 117,
   "metadata": {},
   "outputs": [],
   "source": [
    "def solve_cross(face: np.ndarray) -> Action:\n",
    "    missing = missing_cross(face)\n",
    "    (row, col) = missing[0]\n",
    "    idx = row * 3 + col\n",
    "    match idx:\n",
    "        case 1:\n",
    "            return Action.U\n",
    "        case 3:\n",
    "            return Action.L\n",
    "        case 5:\n",
    "            return Action.R\n",
    "        case 7:\n",
    "            return Action.B"
   ]
  },
  {
   "cell_type": "code",
   "execution_count": 122,
   "metadata": {},
   "outputs": [],
   "source": [
    "def solve_corners(face: np.ndarray) -> Action:\n",
    "    missing = missing_corners(face)\n",
    "    (row, col) = missing[0]\n",
    "    idx = row * 3 + col\n",
    "    match idx:\n",
    "        case 0:\n",
    "            return Action.U\n",
    "        case 2:\n",
    "            return Action.L\n",
    "        case 6:\n",
    "            return Action.R\n",
    "        case 8:\n",
    "            return Action.B"
   ]
  },
  {
   "cell_type": "code",
   "execution_count": 123,
   "metadata": {},
   "outputs": [],
   "source": [
    "def solve(face: np.ndarray):\n",
    "    state = get_state(face)\n",
    "    match state:\n",
    "        case State.RAND:\n",
    "            action = solve_cross(face)\n",
    "        case State.CROSS:\n",
    "            action = solve_corners(face)\n",
    "        case State.CORNERS:\n",
    "            print(\"Building next stage\")\n",
    "    print(action)"
   ]
  },
  {
   "cell_type": "code",
   "execution_count": 126,
   "metadata": {},
   "outputs": [],
   "source": [
    "faces = [\n",
    "    np.array(\n",
    "        [\n",
    "            [\"white\", \"blue\", \"green\"],\n",
    "            [\"green\", \"blue\", \"red\"],\n",
    "            [\"orange\", \"blue\", \"green\"],\n",
    "        ]\n",
    "    ),\n",
    "    np.array(\n",
    "        [\n",
    "            [\"white\", \"blue\", \"green\"],\n",
    "            [\"red\", \"blue\", \"red\"],\n",
    "            [\"orange\", \"blue\", \"green\"],\n",
    "        ]\n",
    "    ),\n",
    "    np.array(\n",
    "        [\n",
    "            [\"white\", \"blue\", \"green\"],\n",
    "            [\"blue\", \"blue\", \"red\"],\n",
    "            [\"orange\", \"blue\", \"green\"],\n",
    "        ]\n",
    "    ),\n",
    "    np.array(\n",
    "        [\n",
    "            [\"white\", \"blue\", \"green\"],\n",
    "            [\"blue\", \"blue\", \"blue\"],\n",
    "            [\"orange\", \"blue\", \"green\"],\n",
    "        ]\n",
    "    ),\n",
    "    np.array(\n",
    "        [\n",
    "            [\"red\", \"blue\", \"green\"],\n",
    "            [\"green\", \"blue\", \"blue\"],\n",
    "            [\"yellow\", \"blue\", \"green\"],\n",
    "        ]\n",
    "    ),\n",
    "]"
   ]
  },
  {
   "cell_type": "code",
   "execution_count": 127,
   "metadata": {},
   "outputs": [
    {
     "name": "stdout",
     "output_type": "stream",
     "text": [
      "Action.L\n",
      "Action.L\n",
      "Action.R\n",
      "Action.U\n",
      "Action.L\n"
     ]
    }
   ],
   "source": [
    "for face in faces:\n",
    "    solve(face)"
   ]
  },
  {
   "cell_type": "code",
   "execution_count": null,
   "metadata": {},
   "outputs": [],
   "source": []
  }
 ],
 "metadata": {
  "kernelspec": {
   "display_name": ".venv",
   "language": "python",
   "name": "python3"
  },
  "language_info": {
   "codemirror_mode": {
    "name": "ipython",
    "version": 3
   },
   "file_extension": ".py",
   "mimetype": "text/x-python",
   "name": "python",
   "nbconvert_exporter": "python",
   "pygments_lexer": "ipython3",
   "version": "3.10.12"
  }
 },
 "nbformat": 4,
 "nbformat_minor": 2
}
